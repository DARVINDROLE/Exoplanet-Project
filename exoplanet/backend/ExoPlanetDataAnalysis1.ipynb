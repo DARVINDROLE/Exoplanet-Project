{
 "cells": [
  {
   "cell_type": "code",
   "execution_count": 81,
   "id": "5caac361",
   "metadata": {},
   "outputs": [],
   "source": [
    "import pandas as pd\n",
    "import numpy as np\n",
    "import seaborn as sns\n"
   ]
  },
  {
   "cell_type": "code",
   "execution_count": 82,
   "id": "4f694efd",
   "metadata": {},
   "outputs": [],
   "source": [
    "df = pd.read_csv('planett.csv')\n"
   ]
  },
  {
   "cell_type": "code",
   "execution_count": 83,
   "id": "17e22d42",
   "metadata": {},
   "outputs": [
    {
     "name": "stdout",
     "output_type": "stream",
     "text": [
      "P_NAME                    object\n",
      "P_STATUS                 float64\n",
      "P_MASS                   float64\n",
      "P_MASS_ERROR_MIN         float64\n",
      "P_MASS_ERROR_MAX         float64\n",
      "                          ...   \n",
      "S_CONSTELLATION_ABR       object\n",
      "S_CONSTELLATION_ENG       object\n",
      "P_RADIUS_EST             float64\n",
      "P_MASS_EST               float64\n",
      "P_SEMI_MAJOR_AXIS_EST    float64\n",
      "Length: 112, dtype: object\n",
      "       P_STATUS        P_MASS  P_MASS_ERROR_MIN  P_MASS_ERROR_MAX  \\\n",
      "count    4048.0   1598.000000       1467.000000       1467.000000   \n",
      "mean        3.0    798.384920       -152.292232        190.289692   \n",
      "std         0.0   1406.808654        783.366353       1082.061976   \n",
      "min         3.0      0.019070     -24965.390000          0.000000   \n",
      "25%         3.0     26.548968        -79.457001          4.449592   \n",
      "50%         3.0    273.332080        -24.154928         25.108412   \n",
      "75%         3.0    806.488560         -4.392383         85.813561   \n",
      "max         3.0  17668.059000          0.270000      26630.808000   \n",
      "\n",
      "          P_RADIUS  P_RADIUS_ERROR_MIN  P_RADIUS_ERROR_MAX       P_YEAR  \\\n",
      "count  3139.000000         3105.000000         3105.000000  4048.000000   \n",
      "mean      4.191426           -0.483990            0.621867  2014.212945   \n",
      "std       4.776830            1.409048            2.007592     3.704839   \n",
      "min       0.336300          -54.592700            0.000000  1989.000000   \n",
      "25%       1.569400           -0.526870            0.145730  2014.000000   \n",
      "50%       2.331680           -0.235410            0.325090  2016.000000   \n",
      "75%       3.553570           -0.134520            0.661390  2016.000000   \n",
      "max      77.349000            0.450000           68.919080  2019.000000   \n",
      "\n",
      "           P_PERIOD  P_PERIOD_ERROR_MIN  ...  S_SNOW_LINE   S_ABIO_ZONE  \\\n",
      "count  3.938000e+03        3.807000e+03  ...  3786.000000  3.083000e+03   \n",
      "mean   2.309342e+03       -1.073631e+03  ...     3.513348  1.768991e+35   \n",
      "std    1.167012e+05        5.943181e+04  ...     5.463171  6.944274e+36   \n",
      "min    9.070629e-02       -3.650000e+06  ...     0.002405  7.293660e-05   \n",
      "25%    4.497336e+00       -1.129000e-03  ...     1.740762  5.264169e-01   \n",
      "50%    1.187053e+01       -9.392000e-05  ...     2.568600  1.429118e+00   \n",
      "75%    4.186661e+01       -1.594000e-05  ...     3.661581  2.641037e+00   \n",
      "max    7.300000e+06        3.200000e-02  ...   104.112780  2.726899e+38   \n",
      "\n",
      "       S_TIDAL_LOCK  P_HABZONE_OPT  P_HABZONE_CON  P_HABITABLE        P_ESI  \\\n",
      "count   3281.000000    4048.000000    4048.000000  4048.000000  3721.000000   \n",
      "mean       0.440103       0.049654       0.034091     0.021986     0.261252   \n",
      "std        0.074285       0.217256       0.181485     0.195731     0.131333   \n",
      "min        0.030707       0.000000       0.000000     0.000000     0.006768   \n",
      "25%        0.420337       0.000000       0.000000     0.000000     0.196982   \n",
      "50%        0.448357       0.000000       0.000000     0.000000     0.271192   \n",
      "75%        0.472140       0.000000       0.000000     0.000000     0.303346   \n",
      "max        1.322542       1.000000       1.000000     2.000000     0.931208   \n",
      "\n",
      "       P_RADIUS_EST    P_MASS_EST  P_SEMI_MAJOR_AXIS_EST  \n",
      "count   4048.000000   4048.000000            3978.000000  \n",
      "mean       5.588647    323.089993               4.011385  \n",
      "std        5.392733    965.084290              62.389968  \n",
      "min        0.000000      0.000000               0.004400  \n",
      "25%        1.703920      3.628101               0.053000  \n",
      "50%        2.667980      7.815324               0.102199  \n",
      "75%       11.770500    149.379160               0.260507  \n",
      "max       77.349000  17668.059000            2500.000000  \n",
      "\n",
      "[8 rows x 98 columns]\n"
     ]
    },
    {
     "data": {
      "text/plain": [
       "0       Radial Velocity\n",
       "1       Radial Velocity\n",
       "2       Radial Velocity\n",
       "3       Radial Velocity\n",
       "4       Radial Velocity\n",
       "             ...       \n",
       "4043            Transit\n",
       "4044            Transit\n",
       "4045    Radial Velocity\n",
       "4046    Radial Velocity\n",
       "4047    Radial Velocity\n",
       "Name: P_DETECTION, Length: 4048, dtype: object"
      ]
     },
     "execution_count": 83,
     "metadata": {},
     "output_type": "execute_result"
    }
   ],
   "source": [
    "print(df.dtypes)\n",
    "\n",
    "print(df.describe())\n",
    "df.P_DETECTION\n"
   ]
  },
  {
   "cell_type": "code",
   "execution_count": 84,
   "id": "2bccf6f2",
   "metadata": {},
   "outputs": [
    {
     "name": "stdout",
     "output_type": "stream",
     "text": [
      "The dataset requires normalization for the column P_MASS\n",
      "The dataset requires normalization for the column P_MASS_ERROR_MIN\n",
      "The dataset requires normalization for the column P_MASS_ERROR_MAX\n",
      "The dataset requires normalization for the column P_RADIUS\n",
      "The dataset requires normalization for the column P_RADIUS_ERROR_MIN\n",
      "The dataset requires normalization for the column P_RADIUS_ERROR_MAX\n",
      "The dataset requires normalization for the column P_YEAR\n",
      "The dataset requires normalization for the column P_PERIOD\n",
      "The dataset requires normalization for the column P_PERIOD_ERROR_MIN\n",
      "The dataset requires normalization for the column P_PERIOD_ERROR_MAX\n",
      "The dataset requires normalization for the column P_SEMI_MAJOR_AXIS\n",
      "The dataset requires normalization for the column P_SEMI_MAJOR_AXIS_ERROR_MIN\n",
      "The dataset requires normalization for the column P_SEMI_MAJOR_AXIS_ERROR_MAX\n",
      "The dataset requires normalization for the column P_INCLINATION\n",
      "The dataset requires normalization for the column P_INCLINATION_ERROR_MIN\n",
      "The dataset requires normalization for the column P_INCLINATION_ERROR_MAX\n",
      "The dataset requires normalization for the column P_OMEGA\n",
      "The dataset requires normalization for the column P_OMEGA_ERROR_MIN\n",
      "The dataset requires normalization for the column P_OMEGA_ERROR_MAX\n",
      "The dataset requires normalization for the column P_TPERI\n",
      "The dataset requires normalization for the column P_TPERI_ERROR_MIN\n",
      "The dataset requires normalization for the column P_TPERI_ERROR_MAX\n",
      "The dataset requires normalization for the column P_ANGULAR_DISTANCE\n",
      "The dataset requires normalization for the column S_RA\n",
      "The dataset requires normalization for the column S_DEC\n",
      "The dataset requires normalization for the column S_MAG\n",
      "The dataset requires normalization for the column S_DISTANCE\n",
      "The dataset requires normalization for the column S_DISTANCE_ERROR_MIN\n",
      "The dataset requires normalization for the column S_DISTANCE_ERROR_MAX\n",
      "The dataset requires normalization for the column S_MASS_ERROR_MIN\n",
      "The dataset requires normalization for the column S_MASS_ERROR_MAX\n",
      "The dataset requires normalization for the column S_RADIUS\n",
      "The dataset requires normalization for the column S_RADIUS_ERROR_MIN\n",
      "The dataset requires normalization for the column S_RADIUS_ERROR_MAX\n",
      "The dataset requires normalization for the column S_AGE\n",
      "The dataset requires normalization for the column S_AGE_ERROR_MIN\n",
      "The dataset requires normalization for the column S_AGE_ERROR_MAX\n",
      "The dataset requires normalization for the column S_TEMPERATURE\n",
      "The dataset requires normalization for the column S_TEMPERATURE_ERROR_MIN\n",
      "The dataset requires normalization for the column S_TEMPERATURE_ERROR_MAX\n",
      "The dataset requires normalization for the column P_ESCAPE\n",
      "The dataset requires normalization for the column P_POTENTIAL\n",
      "The dataset requires normalization for the column P_GRAVITY\n",
      "The dataset requires normalization for the column P_DENSITY\n",
      "The dataset requires normalization for the column P_HILL_SPHERE\n",
      "The dataset requires normalization for the column P_DISTANCE\n",
      "The dataset requires normalization for the column P_PERIASTRON\n",
      "The dataset requires normalization for the column P_APASTRON\n",
      "The dataset requires normalization for the column P_DISTANCE_EFF\n",
      "The dataset requires normalization for the column P_FLUX\n",
      "The dataset requires normalization for the column P_FLUX_MIN\n",
      "The dataset requires normalization for the column P_FLUX_MAX\n",
      "The dataset requires normalization for the column P_TEMP_EQUIL\n",
      "The dataset requires normalization for the column P_TEMP_EQUIL_MIN\n",
      "The dataset requires normalization for the column P_TEMP_EQUIL_MAX\n",
      "The dataset requires normalization for the column S_RADIUS_EST\n",
      "The dataset requires normalization for the column S_RA_H\n",
      "The dataset requires normalization for the column S_LUMINOSITY\n",
      "The dataset requires normalization for the column S_HZ_OPT_MIN\n",
      "The dataset requires normalization for the column S_HZ_OPT_MAX\n",
      "The dataset requires normalization for the column S_HZ_CON_MIN\n",
      "The dataset requires normalization for the column S_HZ_CON_MAX\n",
      "The dataset requires normalization for the column S_HZ_CON0_MIN\n",
      "The dataset requires normalization for the column S_HZ_CON0_MAX\n",
      "The dataset requires normalization for the column S_HZ_CON1_MIN\n",
      "The dataset requires normalization for the column S_HZ_CON1_MAX\n",
      "The dataset requires normalization for the column S_SNOW_LINE\n",
      "The dataset requires normalization for the column S_ABIO_ZONE\n",
      "The dataset requires normalization for the column P_RADIUS_EST\n",
      "The dataset requires normalization for the column P_MASS_EST\n",
      "The dataset requires normalization for the column P_SEMI_MAJOR_AXIS_EST\n"
     ]
    }
   ],
   "source": [
    "for column in df.columns:\n",
    "   if df[column].dtype.name == 'float64' or df[column].dtype.name == 'int64':\n",
    "        if df[column].std() > 1:\n",
    "            print('The dataset requires normalization for the column', column)\n"
   ]
  },
  {
   "cell_type": "code",
   "execution_count": 85,
   "id": "b7c2d2cc",
   "metadata": {},
   "outputs": [
    {
     "data": {
      "text/plain": [
       "Index(['P_NAME', 'P_STATUS', 'P_MASS', 'P_MASS_ERROR_MIN', 'P_MASS_ERROR_MAX',\n",
       "       'P_RADIUS', 'P_RADIUS_ERROR_MIN', 'P_RADIUS_ERROR_MAX', 'P_YEAR',\n",
       "       'P_UPDATED',\n",
       "       ...\n",
       "       'P_HABZONE_CON', 'P_TYPE_TEMP', 'P_HABITABLE', 'P_ESI',\n",
       "       'S_CONSTELLATION', 'S_CONSTELLATION_ABR', 'S_CONSTELLATION_ENG',\n",
       "       'P_RADIUS_EST', 'P_MASS_EST', 'P_SEMI_MAJOR_AXIS_EST'],\n",
       "      dtype='object', length=112)"
      ]
     },
     "execution_count": 85,
     "metadata": {},
     "output_type": "execute_result"
    }
   ],
   "source": [
    "\n",
    "df.columns\n"
   ]
  },
  {
   "cell_type": "code",
   "execution_count": 86,
   "id": "eb18cb51",
   "metadata": {
    "scrolled": true
   },
   "outputs": [],
   "source": [
    "#value_mapping = {'Radial Velocity': 1, 'Imaging': 2, 'Transit': 3}Eclipse Timing Variations\n",
    "#df['P_DETECTION'] = df['P_DETECTION'].map(value_mapping)\n",
    "df.loc[df['P_DETECTION']=='Radial Velocity','P_DETECTION']=0\n",
    "df.loc[df['P_DETECTION']=='Imaging','P_DETECTION']=1\n",
    "df.loc[df['P_DETECTION']=='Transit','P_DETECTION']=2\n",
    "df.loc[df['P_DETECTION']=='Eclipse Timing Variations','P_DETECTION']=3\n",
    "df.loc[df['P_DETECTION']=='Microlensing','P_DETECTION']=4\n",
    "df.loc[df['P_DETECTION']=='Orbital Brightness Modulation ','P_DETECTION']=5\n",
    "df.loc[df['P_DETECTION']=='Pulsar Timing ','P_DETECTION']=6\n",
    "df.loc[df['P_DETECTION']=='Pulsation Timing Variations ','P_DETECTION']=7\n",
    "df.loc[df['P_DETECTION']=='Astrometry  ','P_DETECTION']=8\n"
   ]
  },
  {
   "cell_type": "code",
   "execution_count": 87,
   "id": "29359ffe",
   "metadata": {},
   "outputs": [
    {
     "name": "stderr",
     "output_type": "stream",
     "text": [
      "C:\\Users\\Laukik\\AppData\\Local\\Temp\\ipykernel_18032\\3423471606.py:1: FutureWarning: The default value of numeric_only in DataFrame.corr is deprecated. In a future version, it will default to False. Select only valid columns or specify the value of numeric_only to silence this warning.\n",
      "  sns.heatmap(df[['P_DETECTION', 'P_YEAR']].corr(), annot=False)\n"
     ]
    },
    {
     "data": {
      "text/plain": [
       "<Axes: >"
      ]
     },
     "execution_count": 87,
     "metadata": {},
     "output_type": "execute_result"
    },
    {
     "data": {
      "image/png": "[encoded data removed]",
      "text/plain": [
       "<Figure size 640x480 with 2 Axes>"
      ]
     },
     "metadata": {},
     "output_type": "display_data"
    }
   ],
   "source": [
    "\n",
    "sns.heatmap(df[['P_DETECTION', 'P_YEAR']].corr(), annot=False)\n",
    "#plt.show()"
   ]
  },
  {
   "cell_type": "code",
   "execution_count": 88,
   "id": "ff9444c8",
   "metadata": {},
   "outputs": [],
   "source": [
    "df.loc[df['P_DETECTION']== 0,'P_DETECTION']='Radial Velocity'\n",
    "df.loc[df['P_DETECTION']== 1,'P_DETECTION']='Imaging'\n",
    "df.loc[df['P_DETECTION']== 2,'P_DETECTION']='Transit'\n",
    "df.loc[df['P_DETECTION']== 3,'P_DETECTION']='Eclipse Timing Variations'\n",
    "df.loc[df['P_DETECTION']== 4,'P_DETECTION']='Microlensing'\n",
    "df.loc[df['P_DETECTION']== 5,'P_DETECTION']='Orbital Brightness Modulation '\n",
    "df.loc[df['P_DETECTION']== 6,'P_DETECTION']='Pulsar Timing '\n",
    "df.loc[df['P_DETECTION']== 7,'P_DETECTION']='Pulsation Timing Variations '\n",
    "df.loc[df['P_DETECTION']== 8,'P_DETECTION']='Astrometry'\n"
   ]
  },
  {
   "cell_type": "code",
   "execution_count": null,
   "id": "f24a16e0",
   "metadata": {},
   "outputs": [],
   "source": [
    "\n"
   ]
  },
  {
   "cell_type": "code",
   "execution_count": 89,
   "id": "4870b407",
   "metadata": {},
   "outputs": [
    {
     "name": "stdout",
     "output_type": "stream",
     "text": [
      "The most used planetary detection methods for habitability class 0 are:\n",
      "Transit                      3076\n",
      "Radial Velocity               748\n",
      "Microlensing                   78\n",
      "Imaging                        47\n",
      "Transit Timing Variations      18\n",
      "Name: P_DETECTION, dtype: int64\n",
      "The most used planetary detection methods for habitability class 1 are:\n",
      "Radial Velocity    12\n",
      "Transit             9\n",
      "Name: P_DETECTION, dtype: int64\n",
      "The most used planetary detection methods for habitability class 2 are:\n",
      "Transit            29\n",
      "Radial Velocity     5\n",
      "Name: P_DETECTION, dtype: int64\n"
     ]
    }
   ],
   "source": [
    "for P_HABITABLE in [0, 1, 2]:\n",
    "    print('The most used planetary detection methods for habitability class', P_HABITABLE, 'are:')\n",
    "    print(df[df['P_HABITABLE'] == P_HABITABLE]['P_DETECTION'].value_counts().head(5))"
   ]
  },
  {
   "cell_type": "code",
   "execution_count": 103,
   "id": "91bfb1ba",
   "metadata": {},
   "outputs": [],
   "source": [
    "descr=df.describe()\n",
    "seventyfive =descr.loc['75%', 'P_RADIUS']"
   ]
  },
  {
   "cell_type": "code",
   "execution_count": 104,
   "id": "69c9c11c",
   "metadata": {},
   "outputs": [],
   "source": [
    "Twentyfive=descr.loc['25%', 'P_RADIUS']\n"
   ]
  },
  {
   "cell_type": "code",
   "execution_count": 105,
   "id": "7b0dd0b4",
   "metadata": {},
   "outputs": [],
   "source": [
    "IQR = seventyfive-Twentyfive"
   ]
  },
  {
   "cell_type": "code",
   "execution_count": 106,
   "id": "672f2d51",
   "metadata": {},
   "outputs": [
    {
     "name": "stdout",
     "output_type": "stream",
     "text": [
      "1.9841700000000002\n"
     ]
    }
   ],
   "source": [
    "print(IQR)"
   ]
  },
  {
   "cell_type": "code",
   "execution_count": 108,
   "id": "04022a4a",
   "metadata": {},
   "outputs": [
    {
     "data": {
      "text/plain": [
       "2.957998005969804"
      ]
     },
     "execution_count": 108,
     "metadata": {},
     "output_type": "execute_result"
    }
   ],
   "source": [
    "df.P_RADIUS.skew()"
   ]
  },
  {
   "cell_type": "code",
   "execution_count": null,
   "id": "b3cc6344",
   "metadata": {},
   "outputs": [],
   "source": []
  }
 ],
 "metadata": {
  "kernelspec": {
   "display_name": "Python 3 (ipykernel)",
   "language": "python",
   "name": "python3"
  },
  "language_info": {
   "codemirror_mode": {
    "name": "ipython",
    "version": 3
   },
   "file_extension": ".py",
   "mimetype": "text/x-python",
   "name": "python",
   "nbconvert_exporter": "python",
   "pygments_lexer": "ipython3",
   "version": "3.11.3"
  }
 },
 "nbformat": 4,
 "nbformat_minor": 5
}
