{
 "cells": [
  {
   "cell_type": "code",
   "execution_count": 1,
   "id": "382c69cd",
   "metadata": {},
   "outputs": [
    {
     "name": "stdout",
     "output_type": "stream",
     "text": [
      "Accuracy: 0.9739583333333334\n"
     ]
    }
   ],
   "source": [
    "import pandas as pd\n",
    "from sklearn.ensemble import RandomForestClassifier\n",
    "from sklearn.model_selection import train_test_split\n",
    "from sklearn.preprocessing import PolynomialFeatures\n",
    "from sklearn.pipeline import Pipeline\n",
    "\n",
    "# Load your dataset\n",
    "df = pd.read_csv('radial velocity.csv')\n",
    "df.loc[df['S_TYPE_TEMP']=='O','S_TYPE_TEMP']=1\n",
    "df.loc[df['S_TYPE_TEMP']=='B','S_TYPE_TEMP']=2\n",
    "df.loc[df['S_TYPE_TEMP']=='A','S_TYPE_TEMP']=3\n",
    "df.loc[df['S_TYPE_TEMP']=='F','S_TYPE_TEMP']=4\n",
    "df.loc[df['S_TYPE_TEMP']=='G','S_TYPE_TEMP']=5\n",
    "df.loc[df['S_TYPE_TEMP']=='K','S_TYPE_TEMP']=6\n",
    "df.loc[df['S_TYPE_TEMP']=='M','S_TYPE_TEMP']=7\n",
    "df['P_MASS'].fillna(df['P_MASS'].median(), inplace=True)\n",
    "df['P_RADIUS'].fillna(df['P_RADIUS'].median(), inplace=True)\n",
    "df['S_TYPE_TEMP'].fillna(df['S_TYPE_TEMP'].median(), inplace=True)\n",
    "df['P_SEMI_MAJOR_AXIS'].fillna(df['P_SEMI_MAJOR_AXIS'].median(), inplace=True)\n",
    "df['P_MASS'].isna().sum()\n",
    "\n",
    "# Perform feature engineering and preprocessing\n",
    "# For example, using polynomial features and RandomForestClassifier\n",
    "pipeline = Pipeline([\n",
    "    ('poly_features', PolynomialFeatures(degree=2, include_bias=False)),\n",
    "    ('classifier', RandomForestClassifier(n_estimators=100, random_state=42))\n",
    "])\n",
    "\n",
    "# Define features and target variable\n",
    "features = ['P_RADIUS', 'P_MASS', 'S_TYPE_TEMP', 'P_SEMI_MAJOR_AXIS']\n",
    "target = 'P_HABITABLE'\n",
    "\n",
    "# Split data into train and test sets\n",
    "X_train, X_test, y_train, y_test = train_test_split(df[features], df[target], test_size=0.25, random_state=42)\n",
    "\n",
    "# Train the model\n",
    "pipeline.fit(X_train, y_train)\n",
    "\n",
    "# Evaluate the model\n",
    "accuracy = pipeline.score(X_test, y_test)\n",
    "print('Accuracy:', accuracy)"
   ]
  },
  {
   "cell_type": "code",
   "execution_count": 2,
   "id": "365a9f9c",
   "metadata": {},
   "outputs": [
    {
     "name": "stdout",
     "output_type": "stream",
     "text": [
      "Accuracy: 0.9858793324775353\n"
     ]
    }
   ],
   "source": [
    "import pandas as pd\n",
    "from sklearn.ensemble import RandomForestClassifier\n",
    "from sklearn.model_selection import train_test_split\n",
    "from sklearn.preprocessing import PolynomialFeatures\n",
    "from sklearn.pipeline import Pipeline\n",
    "\n",
    "# Load your dataset\n",
    "df = pd.read_csv('transit.csv')\n",
    "df.loc[df['S_TYPE_TEMP']=='O','S_TYPE_TEMP']=1\n",
    "df.loc[df['S_TYPE_TEMP']=='B','S_TYPE_TEMP']=2\n",
    "df.loc[df['S_TYPE_TEMP']=='A','S_TYPE_TEMP']=3\n",
    "df.loc[df['S_TYPE_TEMP']=='F','S_TYPE_TEMP']=4\n",
    "df.loc[df['S_TYPE_TEMP']=='G','S_TYPE_TEMP']=5\n",
    "df.loc[df['S_TYPE_TEMP']=='K','S_TYPE_TEMP']=6\n",
    "df.loc[df['S_TYPE_TEMP']=='M','S_TYPE_TEMP']=7\n",
    "df['P_MASS'].fillna(df['P_MASS'].median(), inplace=True)\n",
    "df['P_RADIUS'].fillna(df['P_RADIUS'].median(), inplace=True)\n",
    "df['S_TYPE_TEMP'].fillna(df['S_TYPE_TEMP'].median(), inplace=True)\n",
    "df['P_SEMI_MAJOR_AXIS'].fillna(df['P_SEMI_MAJOR_AXIS'].median(), inplace=True)\n",
    "df['P_MASS'].isna().sum()\n",
    "\n",
    "# Perform feature engineering and preprocessing\n",
    "# For example, using polynomial features and RandomForestClassifier\n",
    "pipeline = Pipeline([\n",
    "    ('poly_features', PolynomialFeatures(degree=2, include_bias=False)),\n",
    "    ('classifier', RandomForestClassifier(n_estimators=100, random_state=42))\n",
    "])\n",
    "\n",
    "# Define features and target variable\n",
    "features = ['P_RADIUS', 'P_MASS', 'S_TYPE_TEMP', 'P_SEMI_MAJOR_AXIS']\n",
    "target = 'P_HABITABLE'\n",
    "\n",
    "# Split data into train and test sets\n",
    "X_train, X_test, y_train, y_test = train_test_split(df[features], df[target], test_size=0.25, random_state=42)\n",
    "\n",
    "# Train the model\n",
    "pipeline.fit(X_train, y_train)\n",
    "\n",
    "# Evaluate the model\n",
    "accuracy = pipeline.score(X_test, y_test)\n",
    "print('Accuracy:', accuracy)"
   ]
  },
  {
   "cell_type": "code",
   "execution_count": 3,
   "id": "abb67a90",
   "metadata": {},
   "outputs": [
    {
     "name": "stdout",
     "output_type": "stream",
     "text": [
      "Accuracy: 1.0\n"
     ]
    }
   ],
   "source": [
    "import pandas as pd\n",
    "from sklearn.ensemble import RandomForestClassifier\n",
    "from sklearn.model_selection import train_test_split\n",
    "from sklearn.preprocessing import PolynomialFeatures\n",
    "from sklearn.pipeline import Pipeline\n",
    "\n",
    "# Load your dataset\n",
    "df = pd.read_csv('imaging.csv')\n",
    "df.loc[df['S_TYPE_TEMP']=='O','S_TYPE_TEMP']=1\n",
    "df.loc[df['S_TYPE_TEMP']=='B','S_TYPE_TEMP']=2\n",
    "df.loc[df['S_TYPE_TEMP']=='A','S_TYPE_TEMP']=3\n",
    "df.loc[df['S_TYPE_TEMP']=='F','S_TYPE_TEMP']=4\n",
    "df.loc[df['S_TYPE_TEMP']=='G','S_TYPE_TEMP']=5\n",
    "df.loc[df['S_TYPE_TEMP']=='K','S_TYPE_TEMP']=6\n",
    "df.loc[df['S_TYPE_TEMP']=='M','S_TYPE_TEMP']=7\n",
    "df['P_MASS'].fillna(df['P_MASS'].median(), inplace=True)\n",
    "df['P_RADIUS'].fillna(df['P_RADIUS'].median(), inplace=True)\n",
    "df['S_TYPE_TEMP'].fillna(df['S_TYPE_TEMP'].median(), inplace=True)\n",
    "df['P_SEMI_MAJOR_AXIS'].fillna(df['P_SEMI_MAJOR_AXIS'].median(), inplace=True)\n",
    "df['P_MASS'].isna().sum()\n",
    "\n",
    "# Perform feature engineering and preprocessing\n",
    "# For example, using polynomial features and RandomForestClassifier\n",
    "pipeline = Pipeline([\n",
    "    ('poly_features', PolynomialFeatures(degree=2, include_bias=False)),\n",
    "    ('classifier', RandomForestClassifier(n_estimators=100, random_state=42))\n",
    "])\n",
    "\n",
    "# Define features and target variable\n",
    "features = ['P_RADIUS', 'P_MASS', 'S_TYPE_TEMP', 'P_SEMI_MAJOR_AXIS']\n",
    "target = 'P_HABITABLE'\n",
    "\n",
    "# Split data into train and test sets\n",
    "X_train, X_test, y_train, y_test = train_test_split(df[features], df[target], test_size=0.25, random_state=42)\n",
    "\n",
    "# Train the model\n",
    "pipeline.fit(X_train, y_train)\n",
    "\n",
    "# Evaluate the model\n",
    "accuracy = pipeline.score(X_test, y_test)\n",
    "print('Accuracy:', accuracy)"
   ]
  },
  {
   "cell_type": "code",
   "execution_count": 5,
   "id": "d17b7cb1",
   "metadata": {},
   "outputs": [
    {
     "name": "stdout",
     "output_type": "stream",
     "text": [
      "Accuracy: 1.0\n"
     ]
    }
   ],
   "source": [
    "import pandas as pd\n",
    "from sklearn.ensemble import RandomForestClassifier\n",
    "from sklearn.model_selection import train_test_split\n",
    "from sklearn.preprocessing import PolynomialFeatures\n",
    "from sklearn.pipeline import Pipeline\n",
    "\n",
    "# Load your dataset\n",
    "df = pd.read_csv('microlencing.csv')\n",
    "df.loc[df['S_TYPE_TEMP']=='O','S_TYPE_TEMP']=1\n",
    "df.loc[df['S_TYPE_TEMP']=='B','S_TYPE_TEMP']=2\n",
    "df.loc[df['S_TYPE_TEMP']=='A','S_TYPE_TEMP']=3\n",
    "df.loc[df['S_TYPE_TEMP']=='F','S_TYPE_TEMP']=4\n",
    "df.loc[df['S_TYPE_TEMP']=='G','S_TYPE_TEMP']=5\n",
    "df.loc[df['S_TYPE_TEMP']=='K','S_TYPE_TEMP']=6\n",
    "df.loc[df['S_TYPE_TEMP']=='M','S_TYPE_TEMP']=7\n",
    "df['P_MASS'].fillna(df['P_MASS'].median(), inplace=True)\n",
    "\n",
    "df['S_TYPE_TEMP'].fillna(df['S_TYPE_TEMP'].median(), inplace=True)\n",
    "df['P_SEMI_MAJOR_AXIS'].fillna(df['P_SEMI_MAJOR_AXIS'].median(), inplace=True)\n",
    "df['P_MASS'].isna().sum()\n",
    "\n",
    "# Perform feature engineering and preprocessing\n",
    "# For example, using polynomial features and RandomForestClassifier\n",
    "pipeline = Pipeline([\n",
    "    ('poly_features', PolynomialFeatures(degree=2, include_bias=False)),\n",
    "    ('classifier', RandomForestClassifier(n_estimators=100, random_state=42))\n",
    "])\n",
    "\n",
    "# Define features and target variable\n",
    "features = [ 'P_MASS', 'S_TYPE_TEMP', 'P_SEMI_MAJOR_AXIS']\n",
    "target = 'P_HABITABLE'\n",
    "\n",
    "# Split data into train and test sets\n",
    "X_train, X_test, y_train, y_test = train_test_split(df[features], df[target], test_size=0.25, random_state=42)\n",
    "\n",
    "# Train the model\n",
    "pipeline.fit(X_train, y_train)\n",
    "\n",
    "# Evaluate the model\n",
    "accuracy = pipeline.score(X_test, y_test)\n",
    "print('Accuracy:', accuracy)"
   ]
  },
  {
   "cell_type": "code",
   "execution_count": 12,
   "id": "407a8d10",
   "metadata": {},
   "outputs": [
    {
     "name": "stdout",
     "output_type": "stream",
     "text": [
      "Accuracy: 0.9881422924901185\n"
     ]
    }
   ],
   "source": [
    "import pandas as pd\n",
    "from sklearn.ensemble import RandomForestClassifier\n",
    "from sklearn.model_selection import train_test_split\n",
    "from sklearn.preprocessing import PolynomialFeatures\n",
    "from sklearn.pipeline import Pipeline\n",
    "\n",
    "# Load your dataset\n",
    "df = pd.read_csv('2019.csv')\n",
    "df.loc[df['S_TYPE_TEMP']=='O','S_TYPE_TEMP']=1\n",
    "df.loc[df['S_TYPE_TEMP']=='B','S_TYPE_TEMP']=2\n",
    "df.loc[df['S_TYPE_TEMP']=='A','S_TYPE_TEMP']=3\n",
    "df.loc[df['S_TYPE_TEMP']=='F','S_TYPE_TEMP']=4\n",
    "df.loc[df['S_TYPE_TEMP']=='G','S_TYPE_TEMP']=5\n",
    "df.loc[df['S_TYPE_TEMP']=='K','S_TYPE_TEMP']=6\n",
    "df.loc[df['S_TYPE_TEMP']=='M','S_TYPE_TEMP']=7\n",
    "df['P_MASS'].fillna(df['P_MASS'].median(), inplace=True)\n",
    "df['P_RADIUS'].fillna(df['P_RADIUS'].median(), inplace=True)\n",
    "df['S_TYPE_TEMP'].fillna(df['S_TYPE_TEMP'].median(), inplace=True)\n",
    "df['P_SEMI_MAJOR_AXIS'].fillna(df['P_SEMI_MAJOR_AXIS'].median(), inplace=True)\n",
    "df['P_MASS'].isna().sum()\n",
    "\n",
    "# Perform feature engineering and preprocessing\n",
    "# For example, using polynomial features and RandomForestClassifier\n",
    "pipeline = Pipeline([\n",
    "    ('poly_features', PolynomialFeatures(degree=2, include_bias=False)),\n",
    "    ('classifier', RandomForestClassifier(n_estimators=100, random_state=42))\n",
    "])\n",
    "\n",
    "# Define features and target variable\n",
    "features = ['P_RADIUS', 'P_MASS', 'S_TYPE_TEMP', 'P_SEMI_MAJOR_AXIS']\n",
    "target = 'P_HABITABLE'\n",
    "\n",
    "# Split data into train and test sets\n",
    "X_train, X_test, y_train, y_test = train_test_split(df[features], df[target], test_size=0.25, random_state=42)\n",
    "\n",
    "# Train the model\n",
    "pipeline.fit(X_train, y_train)\n",
    "\n",
    "# Evaluate the model\n",
    "accuracy = pipeline.score(X_test, y_test)\n",
    "print('Accuracy:', accuracy)"
   ]
  },
  {
   "cell_type": "code",
   "execution_count": null,
   "id": "24f83f21",
   "metadata": {},
   "outputs": [],
   "source": []
  }
 ],
 "metadata": {
  "kernelspec": {
   "display_name": "Python 3 (ipykernel)",
   "language": "python",
   "name": "python3"
  },
  "language_info": {
   "codemirror_mode": {
    "name": "ipython",
    "version": 3
   },
   "file_extension": ".py",
   "mimetype": "text/x-python",
   "name": "python",
   "nbconvert_exporter": "python",
   "pygments_lexer": "ipython3",
   "version": "3.11.3"
  }
 },
 "nbformat": 4,
 "nbformat_minor": 5
}
