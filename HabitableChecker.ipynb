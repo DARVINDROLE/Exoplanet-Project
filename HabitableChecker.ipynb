{
 "cells": [
  {
   "cell_type": "code",
   "execution_count": 2,
   "id": "681c3bbd",
   "metadata": {},
   "outputs": [],
   "source": [
    "import pandas as pd\n",
    "from sklearn import preprocessing\n",
    "from sklearn.model_selection import train_test_split\n",
    "from sklearn.linear_model import LogisticRegression\n",
    "df = pd.read_csv('planet.csv')\n",
    "df.loc[df['S_TYPE_TEMP']=='O','S_TYPE_TEMP']=1\n",
    "df.loc[df['S_TYPE_TEMP']=='B','S_TYPE_TEMP']=2\n",
    "df.loc[df['S_TYPE_TEMP']=='A','S_TYPE_TEMP']=3\n",
    "df.loc[df['S_TYPE_TEMP']=='F','S_TYPE_TEMP']=4\n",
    "df.loc[df['S_TYPE_TEMP']=='G','S_TYPE_TEMP']=5\n",
    "df.loc[df['S_TYPE_TEMP']=='K','S_TYPE_TEMP']=6\n",
    "df.loc[df['S_TYPE_TEMP']=='M','S_TYPE_TEMP']=7\n",
    "df['P_MASS'].fillna(df['P_MASS'].median(), inplace=True)\n",
    "\n",
    "df['P_RADIUS'].fillna(df['P_RADIUS'].median(), inplace=True)\n",
    "df['P_PERIOD'].fillna(df['P_PERIOD'].median(), inplace=True)\n",
    "df['P_SEMI_MAJOR_AXIS'].fillna(df['P_SEMI_MAJOR_AXIS'].median(), inplace=True)\n",
    "\n",
    "df['P_INCLINATION'].fillna(df['P_INCLINATION'].median(), inplace=True)\n",
    "df['P_OMEGA'].fillna(df['P_OMEGA'].median(), inplace=True)\n",
    "df['P_ANGULAR_DISTANCE'].fillna(df['P_ANGULAR_DISTANCE'].median(), inplace=True)\n",
    "df['S_DISTANCE'].fillna(df['S_DISTANCE'].median(), inplace=True)\n",
    "df['S_METALLICITY'].fillna(df['S_METALLICITY'].median(), inplace=True)\n",
    "df['S_MASS'].fillna(df['S_MASS'].median(), inplace=True)\n",
    "df['S_RADIUS'].fillna(df['S_RADIUS'].median(), inplace=True)\n",
    "df['S_AGE'].fillna(df['S_AGE'].median(), inplace=True)\n",
    "df['S_TEMPERATURE'].fillna(df['S_TEMPERATURE'].median(), inplace=True)\n",
    "df['P_ESCAPE'].fillna(df['P_ESCAPE'].median(), inplace=True)\n",
    "df['P_POTENTIAL'].fillna(df['P_POTENTIAL'].median(), inplace=True)\n",
    "df['P_GRAVITY'].fillna(df['P_GRAVITY'].median(), inplace=True)\n",
    "df['P_DENSITY'].fillna(df['P_DENSITY'].median(), inplace=True)\n",
    "df['P_HILL_SPHERE'].fillna(df['P_HILL_SPHERE'].median(), inplace=True)\n",
    "df['P_DISTANCE'].fillna(df['P_DISTANCE'].median(), inplace=True)\n",
    "\n",
    "df['P_FLUX'].fillna(df['P_FLUX'].median(), inplace=True)\n",
    "df['P_TEMP_EQUIL'].fillna(df['P_TEMP_EQUIL'].median(), inplace=True)\n",
    "df['S_RADIUS_EST'].fillna(df['S_RADIUS_EST'].median(), inplace=True)\n",
    "df['S_TYPE_TEMP'].fillna(df['S_TYPE_TEMP'].median(), inplace=True)\n",
    "df['S_LUMINOSITY'].fillna(df['S_LUMINOSITY'].median(), inplace=True)\n",
    "\n",
    "\n",
    "\n"
   ]
  },
  {
   "cell_type": "code",
   "execution_count": null,
   "id": "f470ed63",
   "metadata": {},
   "outputs": [],
   "source": []
  },
  {
   "cell_type": "code",
   "execution_count": 3,
   "id": "9bc4d5ca",
   "metadata": {},
   "outputs": [],
   "source": [
    "df['P_MASS'].fillna(df['P_MASS'].median(), inplace=True)\n",
    "df['P_RADIUS'].fillna(df['P_RADIUS'].median(), inplace=True)\n",
    "df['P_PERIOD'].fillna(df['P_PERIOD'].median(), inplace=True)\n",
    "df['P_SEMI_MAJOR_AXIS'].fillna(df['P_SEMI_MAJOR_AXIS'].median(), inplace=True)\n",
    "\n",
    "df['P_INCLINATION'].fillna(df['P_INCLINATION'].median(), inplace=True)\n",
    "df['P_OMEGA'].fillna(df['P_OMEGA'].median(), inplace=True)\n",
    "df['P_ANGULAR_DISTANCE'].fillna(df['P_ANGULAR_DISTANCE'].median(), inplace=True)\n",
    "df['S_DISTANCE'].fillna(df['S_DISTANCE'].median(), inplace=True)\n",
    "df['S_METALLICITY'].fillna(df['S_METALLICITY'].median(), inplace=True)\n",
    "df['S_MASS'].fillna(df['S_MASS'].median(), inplace=True)\n",
    "df['S_RADIUS'].fillna(df['S_RADIUS'].median(), inplace=True)\n",
    "df['S_AGE'].fillna(df['S_AGE'].median(), inplace=True)\n",
    "df['S_TEMPERATURE'].fillna(df['S_TEMPERATURE'].median(), inplace=True)\n",
    "df['P_ESCAPE'].fillna(df['P_ESCAPE'].median(), inplace=True)\n",
    "df['P_POTENTIAL'].fillna(df['P_POTENTIAL'].median(), inplace=True)\n",
    "df['P_GRAVITY'].fillna(df['P_GRAVITY'].median(), inplace=True)\n",
    "df['P_DENSITY'].fillna(df['P_DENSITY'].median(), inplace=True)\n",
    "df['P_HILL_SPHERE'].fillna(df['P_HILL_SPHERE'].median(), inplace=True)\n",
    "df['P_DISTANCE'].fillna(df['P_DISTANCE'].median(), inplace=True)\n",
    "\n",
    "df['P_FLUX'].fillna(df['P_FLUX'].median(), inplace=True)\n",
    "df['P_TEMP_EQUIL'].fillna(df['P_TEMP_EQUIL'].median(), inplace=True)\n",
    "df['S_RADIUS_EST'].fillna(df['S_RADIUS_EST'].median(), inplace=True)\n",
    "df['S_TYPE_TEMP'].fillna(df['S_TYPE_TEMP'].median(), inplace=True)\n",
    "df['S_LUMINOSITY'].fillna(df['S_LUMINOSITY'].median(), inplace=True)"
   ]
  },
  {
   "cell_type": "code",
   "execution_count": 4,
   "id": "0a075c78",
   "metadata": {},
   "outputs": [
    {
     "name": "stdout",
     "output_type": "stream",
     "text": [
      "Accuracy: 0.9851778656126482\n"
     ]
    },
    {
     "name": "stderr",
     "output_type": "stream",
     "text": [
      "C:\\Users\\Laukik\\anaconda3\\Lib\\site-packages\\sklearn\\linear_model\\_logistic.py:458: ConvergenceWarning: lbfgs failed to converge (status=2):\n",
      "ABNORMAL_TERMINATION_IN_LNSRCH.\n",
      "\n",
      "Increase the number of iterations (max_iter) or scale the data as shown in:\n",
      "    https://scikit-learn.org/stable/modules/preprocessing.html\n",
      "Please also refer to the documentation for alternative solver options:\n",
      "    https://scikit-learn.org/stable/modules/linear_model.html#logistic-regression\n",
      "  n_iter_i = _check_optimize_result(\n"
     ]
    }
   ],
   "source": [
    "\n",
    "X_train, X_test, y_train, y_test = train_test_split(df[['P_MASS', 'P_RADIUS', 'P_PERIOD', 'P_SEMI_MAJOR_AXIS',\n",
    "    'P_INCLINATION', 'P_OMEGA', 'P_ANGULAR_DISTANCE', 'S_DISTANCE', 'S_METALLICITY', 'S_MASS', 'S_RADIUS',\n",
    "    'S_AGE', 'S_TEMPERATURE', 'P_ESCAPE', 'P_POTENTIAL',\n",
    "    'P_GRAVITY', 'P_DENSITY', 'P_HILL_SPHERE', 'P_DISTANCE', 'P_FLUX', 'P_TEMP_EQUIL', \n",
    "    'S_RADIUS_EST', 'S_TYPE_TEMP', \n",
    "    'S_LUMINOSITY', \n",
    "     ]], df['P_HABITABLE'], test_size = 0.25)\n",
    "from sklearn.model_selection import StratifiedShuffleSplit\n",
    "\n",
    "split = StratifiedShuffleSplit(n_splits=1, test_size=0.2, random_state=42)\n",
    "\n",
    "for train_index, test_index in split.split(df, df['P_HABITABLE']):  \n",
    "    Strat_train_set = df.loc[train_index]\n",
    "    Strat_test_set = df.loc[test_index]\n",
    "\n",
    "clf = LogisticRegression(max_iter=1000)\n",
    "clf.fit(X_train, y_train)\n",
    "y_pred = clf.predict(X_test)\n",
    "accuracy = clf.score(X_test, y_test)\n",
    "print('Accuracy:', accuracy)"
   ]
  },
  {
   "cell_type": "code",
   "execution_count": 5,
   "id": "c6e3fec1",
   "metadata": {},
   "outputs": [
    {
     "name": "stdout",
     "output_type": "stream",
     "text": [
      "Class prediction: [0]\n",
      "Class probabilities: [[0.69508734 0.15209733 0.15281533]]\n"
     ]
    },
    {
     "name": "stderr",
     "output_type": "stream",
     "text": [
      "C:\\Users\\Laukik\\anaconda3\\Lib\\site-packages\\sklearn\\base.py:439: UserWarning: X does not have valid feature names, but LogisticRegression was fitted with feature names\n",
      "  warnings.warn(\n",
      "C:\\Users\\Laukik\\anaconda3\\Lib\\site-packages\\sklearn\\base.py:439: UserWarning: X does not have valid feature names, but LogisticRegression was fitted with feature names\n",
      "  warnings.warn(\n"
     ]
    }
   ],
   "source": [
    "P_MASS=415.71903\n",
    "P_RADIUS= 9.92085\n",
    "P_PERIOD=4.03519\n",
    "P_SEMI_MAJOR_AXIS=0.051\n",
    "S_TYPE_TEMP=1\n",
    "P_INCLINATION=88.02\n",
    "P_OMEGA=105\n",
    "P_ANGULAR_DISTANCE= 0.0481\n",
    "S_DISTANCE=1060\n",
    "S_METALLICITY= 0.01\n",
    "S_MASS=1.09\n",
    "S_RADIUS =1.01\n",
    "S_AGE =1.635\n",
    "S_TEMPERATURE=5945\n",
    "P_ESCAPE=6.4732966\n",
    "P_POTENTIAL=41.903569\n",
    "P_GRAVITY=4.2237882\n",
    "P_DENSITY=0.42574862\n",
    "P_HILL_SPHERE=0.00369953\n",
    "P_DISTANCE=0.051\n",
    "\n",
    "P_FLUX=438.93325\n",
    "P_TEMP_EQUIL=1166.1235\n",
    "S_RADIUS_EST=1.01\n",
    "S_LUMINOSITY=1.1416654\n",
    "\n",
    "\n",
    "class_prediction = clf.predict([[P_MASS, P_RADIUS, P_PERIOD, P_SEMI_MAJOR_AXIS, \n",
    "    P_INCLINATION, P_OMEGA, P_ANGULAR_DISTANCE,  S_DISTANCE, S_METALLICITY,S_MASS, S_RADIUS,\n",
    "    S_AGE, S_TEMPERATURE,  P_ESCAPE, P_POTENTIAL,\n",
    "    P_GRAVITY, P_DENSITY, P_HILL_SPHERE, P_DISTANCE, P_FLUX, P_TEMP_EQUIL, \n",
    "    S_RADIUS_EST, S_TYPE_TEMP,\n",
    "    S_LUMINOSITY,\n",
    "     ]])\n",
    "\n",
    "\n",
    "print('Class prediction:', class_prediction)\n",
    "\n",
    "\n",
    "class_probabilities = clf.predict_proba([[P_MASS, P_RADIUS, P_PERIOD, P_SEMI_MAJOR_AXIS, \n",
    "  P_INCLINATION, P_OMEGA, P_ANGULAR_DISTANCE,  S_DISTANCE, S_METALLICITY,S_MASS, S_RADIUS,\n",
    "  S_AGE, S_TEMPERATURE,  P_ESCAPE, P_POTENTIAL,\n",
    "    P_GRAVITY, P_DENSITY, P_HILL_SPHERE, P_DISTANCE, P_FLUX, P_TEMP_EQUIL, \n",
    "    S_RADIUS_EST, S_TYPE_TEMP,\n",
    "    S_LUMINOSITY,\n",
    "     ]])\n",
    "print('Class probabilities:', class_probabilities)\n"
   ]
  },
  {
   "cell_type": "code",
   "execution_count": 95,
   "id": "814b5080",
   "metadata": {},
   "outputs": [],
   "source": []
  },
  {
   "cell_type": "code",
   "execution_count": null,
   "id": "76dec59f",
   "metadata": {},
   "outputs": [],
   "source": []
  },
  {
   "cell_type": "code",
   "execution_count": null,
   "id": "3a787e9f",
   "metadata": {},
   "outputs": [],
   "source": []
  },
  {
   "cell_type": "code",
   "execution_count": null,
   "id": "9b8b37c9",
   "metadata": {},
   "outputs": [],
   "source": []
  }
 ],
 "metadata": {
  "kernelspec": {
   "display_name": "Python 3 (ipykernel)",
   "language": "python",
   "name": "python3"
  },
  "language_info": {
   "codemirror_mode": {
    "name": "ipython",
    "version": 3
   },
   "file_extension": ".py",
   "mimetype": "text/x-python",
   "name": "python",
   "nbconvert_exporter": "python",
   "pygments_lexer": "ipython3",
   "version": "3.11.3"
  }
 },
 "nbformat": 4,
 "nbformat_minor": 5
}
